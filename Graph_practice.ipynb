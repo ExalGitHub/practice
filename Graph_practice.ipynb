{
  "nbformat": 4,
  "nbformat_minor": 0,
  "metadata": {
    "colab": {
      "provenance": [],
      "authorship_tag": "ABX9TyPu13AwGJhEEK3sjz+vBIZX"
    },
    "kernelspec": {
      "name": "python3",
      "display_name": "Python 3"
    },
    "language_info": {
      "name": "python"
    }
  },
  "cells": [
    {
      "cell_type": "markdown",
      "source": [
        "Write a function, connected_components_count, that takes in the adjacency list of an undirected graph. The function should return the number of connected components within the graph."
      ],
      "metadata": {
        "id": "ZbHyhpiiiViK"
      }
    },
    {
      "cell_type": "code",
      "execution_count": 45,
      "metadata": {
        "colab": {
          "base_uri": "https://localhost:8080/"
        },
        "id": "8ikqPs8IM9uU",
        "outputId": "c32eb5af-cad8-42cb-fc84-04815467c3d0"
      },
      "outputs": [
        {
          "output_type": "stream",
          "name": "stdout",
          "text": [
            "2\n",
            "1\n",
            "3\n"
          ]
        }
      ],
      "source": [
        "def connected_components_count(graph: dict[list]) -> int:\n",
        "  visited = set()\n",
        "  return sum(1 for node in graph if explore(graph, node, visited))\n",
        "\n",
        "def explore (graph: dict[list], node: int, visited: set) -> bool:\n",
        "  if node in visited: return False\n",
        "\n",
        "  visited.add(node)\n",
        "\n",
        "  [explore(graph, vecino, visited) for vecino in graph[node]]\n",
        "\n",
        "  return True\n",
        "\n",
        "print( connected_components_count({\n",
        "  0: [8, 1, 5],\n",
        "  1: [0],\n",
        "  5: [0, 8],\n",
        "  8: [0, 5],\n",
        "  2: [3, 4],\n",
        "  3: [2, 4],\n",
        "  4: [3, 2]\n",
        "})) # -> 2\n",
        "print( connected_components_count({\n",
        "  1: [2],\n",
        "  2: [1,8],\n",
        "  6: [7],\n",
        "  9: [8],\n",
        "  7: [6, 8],\n",
        "  8: [9, 7, 2]\n",
        "})) # -> 1\n",
        "print( connected_components_count({\n",
        "  3: [],\n",
        "  4: [6],\n",
        "  6: [4, 5, 7, 8],\n",
        "  8: [6],\n",
        "  7: [6],\n",
        "  5: [6],\n",
        "  1: [2],\n",
        "  2: [1]\n",
        "})) # -> 3"
      ]
    },
    {
      "cell_type": "markdown",
      "source": [
        "Write a function, largest_component, that takes in the adjacency list of an undirected graph. The function should return the size of the largest connected component in the graph."
      ],
      "metadata": {
        "id": "DPbidANsm4Y7"
      }
    },
    {
      "cell_type": "code",
      "source": [
        "def largest_component(graph: dict[list]) -> int:\n",
        "  visited = set()\n",
        "  return max(count_node(graph, node, visited) for node in graph)\n",
        "\n",
        "def count_node (graph, node, visited):\n",
        "  if node in visited: return 0\n",
        "  visited.add(node)\n",
        "\n",
        "  return 1 + sum(count_node(graph, vecino, visited) for vecino in graph[node])\n",
        "#Completamente comprimido es así\n",
        "#return 0 if node in visited else visited.add(node) or 1 + sum(count_node(graph, vecino, visited) for vecino in graph[node])\n",
        "\n",
        "largest_component({\n",
        "  0: [8, 1, 5],\n",
        "  1: [0],\n",
        "  5: [0, 8],\n",
        "  8: [0, 5],\n",
        "  2: [3, 4],\n",
        "  3: [2, 4],\n",
        "  4: [3, 2]\n",
        "}) # -> 4\n",
        "\n",
        "largest_component({\n",
        "  1: [2],\n",
        "  2: [1,8],\n",
        "  6: [7],\n",
        "  9: [8],\n",
        "  7: [6, 8],\n",
        "  8: [9, 7, 2]\n",
        "}) # -> 6\n",
        "largest_component({\n",
        "  0: [4,7],\n",
        "  1: [],\n",
        "  2: [],\n",
        "  3: [6],\n",
        "  4: [0],\n",
        "  6: [3],\n",
        "  7: [0],\n",
        "  8: []\n",
        "}) # -> 3"
      ],
      "metadata": {
        "colab": {
          "base_uri": "https://localhost:8080/"
        },
        "id": "_A0aaK49muIk",
        "outputId": "848d36cf-29f9-485c-bfca-c3f4900fddc3"
      },
      "execution_count": 53,
      "outputs": [
        {
          "output_type": "execute_result",
          "data": {
            "text/plain": [
              "3"
            ]
          },
          "metadata": {},
          "execution_count": 53
        }
      ]
    },
    {
      "cell_type": "markdown",
      "source": [
        "Write a function, shortest_path, that takes in a list of edges for an undirected graph and two nodes (node_A, node_B). The function should return the length of the shortest path between A and B. Consider the length as the number of edges in the path, not the number of nodes. If there is no path between A and B, then return -1. You can assume that A and B exist as nodes in the graph."
      ],
      "metadata": {
        "id": "DaZ5pKAbo_5a"
      }
    },
    {
      "cell_type": "code",
      "source": [
        "def build_graph(edges) -> dict[list]:\n",
        "    graph = {}\n",
        "    for a, b in edges:\n",
        "        graph.setdefault(a, []).append(b)\n",
        "        graph.setdefault(b, []).append(a)\n",
        "    return graph\n",
        "\n",
        "def shortest_path(edges: list[list[str]], node_A: str, node_B: str) -> int:\n",
        "  graph = build_graph(edges)\n",
        "  visited = set([node_A])\n",
        "  queue = [ [node_A, 0] ]\n",
        "\n",
        "  while queue:\n",
        "    node, distance = queue.pop(0)\n",
        "\n",
        "    if node == node_B: return distance\n",
        "\n",
        "    for neighbor in graph[node]:\n",
        "      if not neighbor in visited:\n",
        "        visited.add(neighbor)\n",
        "        queue.append([neighbor, distance + 1])\n",
        "  return -1\n",
        "\n",
        "#queue.extend([ [neighbor, distance + 1] for neighbor in graph[node] if neighbor not in visited])\n",
        "#visited.update(graph[node])\n",
        "\n",
        "\n",
        "\n",
        "edges = [\n",
        "  ['w', 'x'],\n",
        "  ['x', 'y'],\n",
        "  ['z', 'y'],\n",
        "  ['z', 'v'],\n",
        "  ['w', 'v']\n",
        "]\n",
        "\n",
        "print(shortest_path(edges, 'w', 'z')) # -> 2\n",
        "\n",
        "edges = [\n",
        "  ['w', 'x'],\n",
        "  ['x', 'y'],\n",
        "  ['z', 'y'],\n",
        "  ['z', 'v'],\n",
        "  ['w', 'v']\n",
        "]\n",
        "print(shortest_path(edges, 'y', 'x')) # -> 1\n",
        "\n",
        "edges = [\n",
        "  ['a', 'c'],\n",
        "  ['a', 'b'],\n",
        "  ['c', 'b'],\n",
        "  ['c', 'd'],\n",
        "  ['b', 'd'],\n",
        "  ['e', 'd'],\n",
        "  ['g', 'f']\n",
        "]\n",
        "\n",
        "print(shortest_path(edges, 'a', 'e')) # -> 3"
      ],
      "metadata": {
        "colab": {
          "base_uri": "https://localhost:8080/"
        },
        "collapsed": true,
        "id": "gvMqss5mpANM",
        "outputId": "9ea86b02-8ae3-4971-9f53-30192d3d968f"
      },
      "execution_count": 57,
      "outputs": [
        {
          "output_type": "stream",
          "name": "stdout",
          "text": [
            "2\n",
            "1\n",
            "3\n"
          ]
        }
      ]
    },
    {
      "cell_type": "markdown",
      "source": [
        "Write a function, shortest_path, that takes in a list of edges for an undirected graph and two nodes (node_A, node_B). The function should return the length of the shortest path between A and B. Consider the length as the number of edges in the path, not the number of nodes. If there is no path between A and B, then return -1. You can assume that A and B exist as nodes in the graph."
      ],
      "metadata": {
        "id": "mAfBmmMqILju"
      }
    },
    {
      "cell_type": "code",
      "source": [
        "def build_graph (edges: list[list]) -> dict[list]:\n",
        "  graph = {}\n",
        "  for a, b in edges:\n",
        "    graph.setdefault(a,[]).append(b)\n",
        "    graph.setdefault(b,[]).append(a)\n",
        "\n",
        "  return graph\n",
        "\n",
        "def shortest_path(edges, node_A, node_B):\n",
        "  graph = build_graph(edges)\n",
        "  visited = set( [node_A] )\n",
        "  queue = [ [node_A, 0] ]\n",
        "\n",
        "  while queue:\n",
        "    node, distancia = queue.pop(0)\n",
        "    if node == node_B: return distancia\n",
        "    for neighbor in graph[node]:\n",
        "      if not neighbor in visited:\n",
        "        visited.add(neighbor)\n",
        "        queue.append( [neighbor, distancia + 1] )\n",
        "  return -1\n",
        "\n",
        "edges = [\n",
        "  ['w', 'x'],\n",
        "  ['x', 'y'],\n",
        "  ['z', 'y'],\n",
        "  ['z', 'v'],\n",
        "  ['w', 'v']\n",
        "]\n",
        "\n",
        "shortest_path(edges, 'w', 'z') # -> 2\n"
      ],
      "metadata": {
        "colab": {
          "base_uri": "https://localhost:8080/"
        },
        "id": "JGFJAGRmIM3N",
        "outputId": "b41ea108-4041-4f94-ccd5-ec50392c9513"
      },
      "execution_count": 61,
      "outputs": [
        {
          "output_type": "execute_result",
          "data": {
            "text/plain": [
              "2"
            ]
          },
          "metadata": {},
          "execution_count": 61
        }
      ]
    },
    {
      "cell_type": "markdown",
      "source": [
        "Write a function, island_count, that takes in a grid containing Ws and Ls. W represents water and L represents land. The function should return the number of islands on the grid. An island is a vertically or horizontally connected region of land."
      ],
      "metadata": {
        "id": "D1SoV4tVMP6h"
      }
    },
    {
      "cell_type": "code",
      "source": [
        "def island_count(grid: dict[list[str]]) -> int:\n",
        "  count = 0\n",
        "  visited = set()\n",
        "  for r in range(len(grid)):\n",
        "    for c in range(len(grid[r])):\n",
        "      if explore(grid, r, c, visited): count += 1\n",
        "  return count\n",
        "\n",
        "  #return sum(explore(grid, r, c, set()) for r in range(len(grid)) for c in range(len(grid[r])))\n",
        "\n",
        "def explore (grid: dict[list[str]], r: int, c: int, visited: set) -> bool:\n",
        "  \"\"\"Explorar debe recibir la fila y columna inicial.\n",
        "  Para que apartir de ese punto empiece a buscar\"\"\"\n",
        "  if not (0 <= r < len(grid) and 0 <= c < len(grid[r])):\n",
        "    return False\n",
        "\n",
        "  pos = (r, c)\n",
        "\n",
        "  #Si está visitado, devolvemos falso\n",
        "  if pos in visited: return False\n",
        "\n",
        "  #Añadimos nodo/pos en visitados\n",
        "  visited.add(pos)\n",
        "\n",
        "  #Si este nodo o pos en grid tiene w como valor, retornamos falso\n",
        "  if grid[r][c] == 'W': return False\n",
        "\n",
        "  #Exploramos alrededores\n",
        "  for dr, dc in [(0, 1), (0, -1), (1, 0), (-1, 0)]:\n",
        "    explore(grid, r + dr, c + dc, visited)\n",
        "\n",
        "  return True #Ya se exploró toda la isla y se marcó como visitada\n",
        "\n",
        "grid = [\n",
        "  ['W', 'L', 'W', 'W', 'W'],\n",
        "  ['W', 'L', 'W', 'W', 'W'],\n",
        "  ['W', 'W', 'W', 'L', 'W'],\n",
        "  ['W', 'W', 'L', 'L', 'W'],\n",
        "  ['L', 'W', 'W', 'L', 'L'],\n",
        "  ['L', 'L', 'W', 'W', 'W'],\n",
        "]\n",
        "\n",
        "island_count(grid) # -> 3\n",
        "grid = [\n",
        "  ['L', 'W', 'W', 'L', 'W'],\n",
        "  ['L', 'W', 'W', 'L', 'L'],\n",
        "  ['W', 'L', 'W', 'L', 'W'],\n",
        "  ['W', 'W', 'W', 'W', 'W'],\n",
        "  ['W', 'W', 'L', 'L', 'L'],\n",
        "]\n",
        "\n",
        "island_count(grid) # -> 4"
      ],
      "metadata": {
        "colab": {
          "base_uri": "https://localhost:8080/"
        },
        "id": "ialEYLbSMQR1",
        "outputId": "13f13730-41fc-4de4-b91e-a38dbf21de36"
      },
      "execution_count": 77,
      "outputs": [
        {
          "output_type": "execute_result",
          "data": {
            "text/plain": [
              "4"
            ]
          },
          "metadata": {},
          "execution_count": 77
        }
      ]
    },
    {
      "cell_type": "markdown",
      "source": [
        "Write a function, minimum_island, that takes in a grid containing Ws and Ls. W represents water and L represents land. The function should return the size of the smallest island. An island is a vertically or horizontally connected region of land.\n",
        "\n",
        "You may assume that the grid contains at least one island."
      ],
      "metadata": {
        "id": "Nm75ikPsntfR"
      }
    },
    {
      "cell_type": "code",
      "source": [
        "def minimum_island(grid: dict[list[str]]) -> int:\n",
        "  smallest = 10000\n",
        "  visited = set()\n",
        "\n",
        "  for r in range(len(grid)):\n",
        "    for c in range(len(grid[r])):\n",
        "\n",
        "      size = explore_island (grid, r, c, visited)\n",
        "\n",
        "      if not size == 0 and size < smallest: smallest = size\n",
        "\n",
        "  return smallest\n",
        "\n",
        "\n",
        "def explore_island (grid: list[list[str]], r: int, c: int, visited: set) -> int:\n",
        "\n",
        "  #Validamos que la entrada sea correcta\n",
        "  if not (0 <= r < len(grid) and 0 <= c < len(grid[r])): return 0\n",
        "\n",
        "  #Verificamos que no sea una pos visitada\n",
        "  if (r, c) in visited: return 0 #Como retornamos\n",
        "\n",
        "  visited.add((r, c))\n",
        "\n",
        "  if grid[r][c] == 'W': return 0 #Que no sea Agua\n",
        "\n",
        "  #Retorna la sumatoria de las islas totales\n",
        "  return 1 + sum(explore_island(grid, r + dr, c + dc, visited) for dr, dc in [(0, 1), (0, -1), (1, 0), (-1, 0)])\n",
        "\n",
        "\n",
        "grid = [\n",
        "  ['W', 'L', 'W', 'W', 'W'],\n",
        "  ['W', 'L', 'W', 'W', 'W'],\n",
        "  ['W', 'W', 'W', 'L', 'W'],\n",
        "  ['W', 'W', 'L', 'L', 'W'],\n",
        "  ['L', 'W', 'W', 'L', 'L'],\n",
        "  ['L', 'L', 'W', 'W', 'W'],\n",
        "]\n",
        "\n",
        "print(minimum_island(grid)) # -> 2\n",
        "grid = [\n",
        "  ['L', 'W', 'W', 'L', 'W'],\n",
        "  ['L', 'W', 'W', 'L', 'L'],\n",
        "  ['W', 'L', 'W', 'L', 'W'],\n",
        "  ['W', 'W', 'W', 'W', 'W'],\n",
        "  ['W', 'W', 'L', 'L', 'L'],\n",
        "]\n",
        "\n",
        "print(minimum_island(grid)) # -> 1\n",
        "grid = [\n",
        "  ['W', 'W'],\n",
        "  ['L', 'L'],\n",
        "  ['W', 'W'],\n",
        "  ['W', 'L']\n",
        "]\n",
        "\n",
        "print(minimum_island(grid)) # -> 1"
      ],
      "metadata": {
        "colab": {
          "base_uri": "https://localhost:8080/"
        },
        "id": "c8t3m8o4YhRK",
        "outputId": "6e9325ab-54cd-462c-cdfe-422d98feb915"
      },
      "execution_count": 106,
      "outputs": [
        {
          "output_type": "stream",
          "name": "stdout",
          "text": [
            "2\n",
            "1\n",
            "1\n"
          ]
        }
      ]
    },
    {
      "cell_type": "markdown",
      "source": [
        "Write a function, minimum_island, that takes in a grid containing Ws and Ls. W represents water and L represents land. The function should return the size of the smallest island. An island is a vertically or horizontally connected region of land.\n",
        "\n",
        "You may assume that the grid contains at least one island."
      ],
      "metadata": {
        "id": "BU0yTaHZ0SjM"
      }
    },
    {
      "cell_type": "code",
      "source": [],
      "metadata": {
        "id": "WF6Xdgtj0U-Q"
      },
      "execution_count": null,
      "outputs": []
    }
  ]
}